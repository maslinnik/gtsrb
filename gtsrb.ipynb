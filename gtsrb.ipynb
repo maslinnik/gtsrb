{
  "cells": [
    {
      "cell_type": "markdown",
      "metadata": {
        "id": "4FS2LecaMunt"
      },
      "source": [
        "### Google Colab routines"
      ]
    },
    {
      "cell_type": "code",
      "execution_count": null,
      "metadata": {
        "id": "zU2-pjv9tr90"
      },
      "outputs": [],
      "source": [
        "from google.colab import files\n",
        "\n",
        "files.upload() # uploading kaggle.json"
      ]
    },
    {
      "cell_type": "code",
      "execution_count": 2,
      "metadata": {
        "id": "aQs4DK5Ut0ed"
      },
      "outputs": [],
      "source": [
        "! mkdir ~/.kaggle\n",
        "\n",
        "! cp kaggle.json ~/.kaggle/"
      ]
    },
    {
      "cell_type": "code",
      "execution_count": 3,
      "metadata": {
        "id": "yMwkbelJt6gn"
      },
      "outputs": [],
      "source": [
        "! chmod 600 ~/.kaggle/kaggle.json"
      ]
    },
    {
      "cell_type": "code",
      "execution_count": 4,
      "metadata": {
        "colab": {
          "base_uri": "https://localhost:8080/"
        },
        "id": "rKp3Yo7Lt9dL",
        "outputId": "2998dae7-b581-4652-f4e5-4c93948fdf69"
      },
      "outputs": [
        {
          "output_type": "stream",
          "name": "stdout",
          "text": [
            "Downloading gtsrb-german-traffic-sign.zip to /content\n",
            " 98% 597M/612M [00:05<00:00, 161MB/s]\n",
            "100% 612M/612M [00:05<00:00, 114MB/s]\n"
          ]
        }
      ],
      "source": [
        "! kaggle datasets download -d meowmeowmeowmeowmeow/gtsrb-german-traffic-sign"
      ]
    },
    {
      "cell_type": "code",
      "execution_count": 5,
      "metadata": {
        "id": "kJhwmYeSuDqG"
      },
      "outputs": [],
      "source": [
        "! mkdir gtsrb"
      ]
    },
    {
      "cell_type": "code",
      "execution_count": 6,
      "metadata": {
        "id": "twKIS_Pft_tW"
      },
      "outputs": [],
      "source": [
        "! unzip gtsrb-german-traffic-sign.zip -d gtsrb > /dev/null"
      ]
    },
    {
      "cell_type": "markdown",
      "metadata": {
        "id": "BD3BaFUnYkKK"
      },
      "source": [
        "### Рассматриваемая задача классификации:\n",
        "\n",
        "**Вход:** матрица формы `(3, 30, 30)` с вещественными числами от 0 до 1\n",
        "\n",
        "**Выход:** вектор из 43 вероятностей"
      ]
    },
    {
      "cell_type": "code",
      "execution_count": 1,
      "metadata": {
        "collapsed": true,
        "id": "vVTqXsp0xGTb"
      },
      "outputs": [],
      "source": [
        "import numpy as np\n",
        "import pandas as pd\n",
        "import os\n",
        "import matplotlib.pyplot as plt\n",
        "%matplotlib inline\n",
        "from PIL import Image\n",
        "np.random.seed(987654321)"
      ]
    },
    {
      "cell_type": "code",
      "execution_count": 2,
      "metadata": {
        "id": "D8zjIsclxGTc"
      },
      "outputs": [],
      "source": [
        "data_dir = 'gtsrb'\n",
        "\n",
        "# Resizing the images to 30x30x3\n",
        "IMG_HEIGHT = 30\n",
        "IMG_WIDTH = 30\n",
        "channels = 3"
      ]
    },
    {
      "cell_type": "code",
      "execution_count": 3,
      "metadata": {
        "colab": {
          "base_uri": "https://localhost:8080/"
        },
        "id": "2TFAg60XxGTd",
        "outputId": "d1c95a71-107a-4523-d6ac-1a245105a62f"
      },
      "outputs": [
        {
          "output_type": "execute_result",
          "data": {
            "text/plain": [
              "43"
            ]
          },
          "metadata": {},
          "execution_count": 3
        }
      ],
      "source": [
        "NUM_CATEGORIES = len(os.listdir(data_dir + '/Train'))\n",
        "NUM_CATEGORIES"
      ]
    },
    {
      "cell_type": "markdown",
      "metadata": {
        "id": "iqiJQnfqZDSi"
      },
      "source": [
        "Считаем все изображения и приведём их к нужному виду с помощью pillow."
      ]
    },
    {
      "cell_type": "code",
      "execution_count": 4,
      "metadata": {
        "colab": {
          "base_uri": "https://localhost:8080/"
        },
        "id": "1QiP_tSnxGTh",
        "outputId": "a8e28090-5adb-4236-95cb-f09b665d26e2"
      },
      "outputs": [
        {
          "output_type": "stream",
          "name": "stdout",
          "text": [
            "shape of train_image_data: (39209, 3, 30, 30)\n",
            "shape of train_labels: (39209,)\n"
          ]
        }
      ],
      "source": [
        "train_image_data = []\n",
        "train_labels = []\n",
        "\n",
        "train_data = pd.read_csv(data_dir + \"/Train.csv\")\n",
        "\n",
        "for label, image_path in list(zip(train_data[\"ClassId\"], train_data[\"Path\"])):\n",
        "    image = Image.open(data_dir + '/' + image_path)\n",
        "    resized_image = image.resize((IMG_HEIGHT, IMG_WIDTH))\n",
        "    train_image_data.append(np.array(resized_image))\n",
        "    train_labels.append(label)\n",
        "\n",
        "train_image_data = np.moveaxis(np.array(train_image_data), -1, 1)\n",
        "train_labels = np.array(train_labels)\n",
        "\n",
        "print(f\"shape of train_image_data: {train_image_data.shape}\")\n",
        "print(f\"shape of train_labels: {train_labels.shape}\")"
      ]
    },
    {
      "cell_type": "code",
      "execution_count": 5,
      "metadata": {
        "colab": {
          "base_uri": "https://localhost:8080/"
        },
        "id": "_C32mYNyY-qG",
        "outputId": "b4665c3f-7957-4917-91fa-cc40f2bc1699"
      },
      "outputs": [
        {
          "output_type": "stream",
          "name": "stdout",
          "text": [
            "shape of test_image_data: (12630, 3, 30, 30)\n",
            "shape of test_labels: (12630,)\n"
          ]
        }
      ],
      "source": [
        "test_image_data = []\n",
        "test_labels = []\n",
        "\n",
        "test_data = pd.read_csv(data_dir + \"/Test.csv\")\n",
        "\n",
        "for label, image_path in list(zip(test_data[\"ClassId\"], test_data[\"Path\"])):\n",
        "    image = Image.open(data_dir + '/' + image_path)\n",
        "    resized_image = image.resize((IMG_HEIGHT, IMG_WIDTH))\n",
        "    test_image_data.append(np.array(resized_image))\n",
        "    test_labels.append(label)\n",
        "\n",
        "test_image_data = np.moveaxis(np.array(test_image_data), -1, 1)\n",
        "test_labels = np.array(test_labels)\n",
        "\n",
        "print(f\"shape of test_image_data: {test_image_data.shape}\")\n",
        "print(f\"shape of test_labels: {test_labels.shape}\")"
      ]
    },
    {
      "cell_type": "markdown",
      "metadata": {
        "id": "3aP7yXNGZKa6"
      },
      "source": [
        "Разделим датасет на три части:\n",
        "\n",
        "- `X_train`, `y_train` — тренировка\n",
        "- `X_val`, `y_val` — валидация\n",
        "- `X_test`, `y_test` — тестирование"
      ]
    },
    {
      "cell_type": "code",
      "execution_count": 6,
      "metadata": {
        "id": "Krs1VyIsxGTj"
      },
      "outputs": [],
      "source": [
        "from sklearn.model_selection import train_test_split\n",
        "\n",
        "X_train, X_val, y_train, y_val = train_test_split(train_image_data, train_labels, test_size=0.3, random_state=42, shuffle=True)\n",
        "X_test, y_test = test_image_data, test_labels"
      ]
    },
    {
      "cell_type": "code",
      "execution_count": 7,
      "metadata": {
        "id": "UVklh3gHxGTk"
      },
      "outputs": [],
      "source": [
        "X_train = X_train / 255\n",
        "X_val = X_val / 255\n",
        "X_test = X_test / 255"
      ]
    },
    {
      "cell_type": "code",
      "execution_count": 8,
      "metadata": {
        "colab": {
          "base_uri": "https://localhost:8080/"
        },
        "id": "WYmJKsgpxGTl",
        "outputId": "a90f775f-6c9e-4356-cf47-6d6d138d1c7a"
      },
      "outputs": [
        {
          "output_type": "stream",
          "name": "stdout",
          "text": [
            "train - X: (27446, 3, 30, 30), y: (27446,)\n",
            "validation - X: (11763, 3, 30, 30), y: (11763,)\n",
            "test - X: (12630, 3, 30, 30), y: (12630,)\n"
          ]
        }
      ],
      "source": [
        "print(f\"train - X: {X_train.shape}, y: {y_train.shape}\")\n",
        "print(f\"validation - X: {X_val.shape}, y: {y_val.shape}\")\n",
        "print(f\"test - X: {X_test.shape}, y: {y_test.shape}\")"
      ]
    },
    {
      "cell_type": "code",
      "execution_count": 9,
      "metadata": {
        "colab": {
          "base_uri": "https://localhost:8080/",
          "height": 406
        },
        "id": "4yYbeGifZUHX",
        "outputId": "222cd499-fe12-41ac-e94d-141a07f0b85a"
      },
      "outputs": [
        {
          "output_type": "display_data",
          "data": {
            "text/plain": [
              "<Figure size 640x480 with 1 Axes>"
            ],
            "image/png": "[encoded data removed]"
          },
          "metadata": {}
        }
      ],
      "source": [
        "plt.imshow(np.moveaxis(X_test[1], 0, -1))\n",
        "plt.axis('off')\n",
        "plt.show()"
      ]
    },
    {
      "cell_type": "code",
      "execution_count": 10,
      "metadata": {
        "id": "qsL5iuDBZlh7"
      },
      "outputs": [],
      "source": [
        "from sklearn.metrics import accuracy_score, classification_report"
      ]
    },
    {
      "cell_type": "markdown",
      "metadata": {
        "id": "AsmjwTm1ZVWn"
      },
      "source": [
        "### 1. `sklearn.linear_model.LogisticRegression`\n",
        "\n",
        "Воспользуемся самой простой доступной моделью, чтобы убедиться в корректности данных."
      ]
    },
    {
      "cell_type": "code",
      "execution_count": 17,
      "metadata": {
        "id": "BUuSk7DVZaZq"
      },
      "outputs": [],
      "source": [
        "# to improve readability\n",
        "import warnings\n",
        "warnings.filterwarnings(\"ignore\")"
      ]
    },
    {
      "cell_type": "code",
      "execution_count": 18,
      "metadata": {
        "id": "0Vsbv9RiZeTs"
      },
      "outputs": [],
      "source": [
        "from sklearn.linear_model import LogisticRegression"
      ]
    },
    {
      "cell_type": "code",
      "execution_count": 19,
      "metadata": {
        "id": "AMovh4epZgGi"
      },
      "outputs": [],
      "source": [
        "model_1 = LogisticRegression()"
      ]
    },
    {
      "cell_type": "code",
      "execution_count": 20,
      "metadata": {
        "colab": {
          "base_uri": "https://localhost:8080/",
          "height": 75
        },
        "id": "6zlPaH42ZiLP",
        "outputId": "98acafcc-01ff-43b2-df14-57ad90d494a0"
      },
      "outputs": [
        {
          "output_type": "execute_result",
          "data": {
            "text/plain": [
              "LogisticRegression()"
            ],
            "text/html": [
              "<style>#sk-container-id-1 {color: black;background-color: white;}#sk-container-id-1 pre{padding: 0;}#sk-container-id-1 div.sk-toggleable {background-color: white;}#sk-container-id-1 label.sk-toggleable__label {cursor: pointer;display: block;width: 100%;margin-bottom: 0;padding: 0.3em;box-sizing: border-box;text-align: center;}#sk-container-id-1 label.sk-toggleable__label-arrow:before {content: \"▸\";float: left;margin-right: 0.25em;color: #696969;}#sk-container-id-1 label.sk-toggleable__label-arrow:hover:before {color: black;}#sk-container-id-1 div.sk-estimator:hover label.sk-toggleable__label-arrow:before {color: black;}#sk-container-id-1 div.sk-toggleable__content {max-height: 0;max-width: 0;overflow: hidden;text-align: left;background-color: #f0f8ff;}#sk-container-id-1 div.sk-toggleable__content pre {margin: 0.2em;color: black;border-radius: 0.25em;background-color: #f0f8ff;}#sk-container-id-1 input.sk-toggleable__control:checked~div.sk-toggleable__content {max-height: 200px;max-width: 100%;overflow: auto;}#sk-container-id-1 input.sk-toggleable__control:checked~label.sk-toggleable__label-arrow:before {content: \"▾\";}#sk-container-id-1 div.sk-estimator input.sk-toggleable__control:checked~label.sk-toggleable__label {background-color: #d4ebff;}#sk-container-id-1 div.sk-label input.sk-toggleable__control:checked~label.sk-toggleable__label {background-color: #d4ebff;}#sk-container-id-1 input.sk-hidden--visually {border: 0;clip: rect(1px 1px 1px 1px);clip: rect(1px, 1px, 1px, 1px);height: 1px;margin: -1px;overflow: hidden;padding: 0;position: absolute;width: 1px;}#sk-container-id-1 div.sk-estimator {font-family: monospace;background-color: #f0f8ff;border: 1px dotted black;border-radius: 0.25em;box-sizing: border-box;margin-bottom: 0.5em;}#sk-container-id-1 div.sk-estimator:hover {background-color: #d4ebff;}#sk-container-id-1 div.sk-parallel-item::after {content: \"\";width: 100%;border-bottom: 1px solid gray;flex-grow: 1;}#sk-container-id-1 div.sk-label:hover label.sk-toggleable__label {background-color: #d4ebff;}#sk-container-id-1 div.sk-serial::before {content: \"\";position: absolute;border-left: 1px solid gray;box-sizing: border-box;top: 0;bottom: 0;left: 50%;z-index: 0;}#sk-container-id-1 div.sk-serial {display: flex;flex-direction: column;align-items: center;background-color: white;padding-right: 0.2em;padding-left: 0.2em;position: relative;}#sk-container-id-1 div.sk-item {position: relative;z-index: 1;}#sk-container-id-1 div.sk-parallel {display: flex;align-items: stretch;justify-content: center;background-color: white;position: relative;}#sk-container-id-1 div.sk-item::before, #sk-container-id-1 div.sk-parallel-item::before {content: \"\";position: absolute;border-left: 1px solid gray;box-sizing: border-box;top: 0;bottom: 0;left: 50%;z-index: -1;}#sk-container-id-1 div.sk-parallel-item {display: flex;flex-direction: column;z-index: 1;position: relative;background-color: white;}#sk-container-id-1 div.sk-parallel-item:first-child::after {align-self: flex-end;width: 50%;}#sk-container-id-1 div.sk-parallel-item:last-child::after {align-self: flex-start;width: 50%;}#sk-container-id-1 div.sk-parallel-item:only-child::after {width: 0;}#sk-container-id-1 div.sk-dashed-wrapped {border: 1px dashed gray;margin: 0 0.4em 0.5em 0.4em;box-sizing: border-box;padding-bottom: 0.4em;background-color: white;}#sk-container-id-1 div.sk-label label {font-family: monospace;font-weight: bold;display: inline-block;line-height: 1.2em;}#sk-container-id-1 div.sk-label-container {text-align: center;}#sk-container-id-1 div.sk-container {/* jupyter's `normalize.less` sets `[hidden] { display: none; }` but bootstrap.min.css set `[hidden] { display: none !important; }` so we also need the `!important` here to be able to override the default hidden behavior on the sphinx rendered scikit-learn.org. See: https://github.com/scikit-learn/scikit-learn/issues/21755 */display: inline-block !important;position: relative;}#sk-container-id-1 div.sk-text-repr-fallback {display: none;}</style><div id=\"sk-container-id-1\" class=\"sk-top-container\"><div class=\"sk-text-repr-fallback\"><pre>LogisticRegression()</pre><b>In a Jupyter environment, please rerun this cell to show the HTML representation or trust the notebook. <br />On GitHub, the HTML representation is unable to render, please try loading this page with nbviewer.org.</b></div><div class=\"sk-container\" hidden><div class=\"sk-item\"><div class=\"sk-estimator sk-toggleable\"><input class=\"sk-toggleable__control sk-hidden--visually\" id=\"sk-estimator-id-1\" type=\"checkbox\" checked><label for=\"sk-estimator-id-1\" class=\"sk-toggleable__label sk-toggleable__label-arrow\">LogisticRegression</label><div class=\"sk-toggleable__content\"><pre>LogisticRegression()</pre></div></div></div></div></div>"
            ]
          },
          "metadata": {},
          "execution_count": 20
        }
      ],
      "source": [
        "model_1.fit(X_train.reshape(X_train.shape[0], -1), y_train)"
      ]
    },
    {
      "cell_type": "code",
      "execution_count": 21,
      "metadata": {
        "colab": {
          "base_uri": "https://localhost:8080/"
        },
        "id": "_vG3wQXMZp8N",
        "outputId": "caf255bd-a31f-471c-d897-1f23518d945c"
      },
      "outputs": [
        {
          "output_type": "stream",
          "name": "stdout",
          "text": [
            "train set accuracy: 0.9383881075566567\n",
            "validation set accuracy: 0.9184731786108986\n",
            "test set accuracy: 0.8314330958036421\n"
          ]
        }
      ],
      "source": [
        "print(f\"train set accuracy: {accuracy_score(y_train, model_1.predict(X_train.reshape(X_train.shape[0], -1)))}\")\n",
        "print(f\"validation set accuracy: {accuracy_score(y_val, model_1.predict(X_val.reshape(X_val.shape[0], -1)))}\")\n",
        "print(f\"test set accuracy: {accuracy_score(y_test, model_1.predict(X_test.reshape(X_test.shape[0], -1)))}\")"
      ]
    },
    {
      "cell_type": "code",
      "execution_count": 22,
      "metadata": {
        "colab": {
          "base_uri": "https://localhost:8080/"
        },
        "id": "ZYrr-lg-ZsF3",
        "outputId": "dc3f07d2-6126-422a-f5e1-16a8d92bb7e2"
      },
      "outputs": [
        {
          "output_type": "stream",
          "name": "stdout",
          "text": [
            "              precision    recall  f1-score   support\n",
            "\n",
            "           0       0.64      0.45      0.53        60\n",
            "           1       0.69      0.90      0.78       720\n",
            "           2       0.84      0.85      0.85       750\n",
            "           3       0.78      0.66      0.71       450\n",
            "           4       0.83      0.77      0.80       660\n",
            "           5       0.69      0.82      0.75       630\n",
            "           6       0.78      0.64      0.70       150\n",
            "           7       0.84      0.65      0.73       450\n",
            "           8       0.72      0.84      0.77       450\n",
            "           9       0.93      0.86      0.89       480\n",
            "          10       0.84      0.92      0.88       660\n",
            "          11       0.86      0.87      0.87       420\n",
            "          12       0.93      0.95      0.94       690\n",
            "          13       0.96      0.98      0.97       720\n",
            "          14       0.98      0.95      0.96       270\n",
            "          15       0.80      0.87      0.83       210\n",
            "          16       0.86      0.89      0.88       150\n",
            "          17       0.98      0.86      0.92       360\n",
            "          18       0.87      0.74      0.80       390\n",
            "          19       0.59      0.50      0.54        60\n",
            "          20       0.44      0.44      0.44        90\n",
            "          21       0.71      0.44      0.55        90\n",
            "          22       0.90      0.85      0.88       120\n",
            "          23       0.58      0.54      0.56       150\n",
            "          24       0.73      0.33      0.46        90\n",
            "          25       0.87      0.87      0.87       480\n",
            "          26       0.76      0.77      0.76       180\n",
            "          27       0.57      0.35      0.43        60\n",
            "          28       0.84      0.65      0.74       150\n",
            "          29       0.74      0.91      0.82        90\n",
            "          30       0.53      0.38      0.44       150\n",
            "          31       0.72      0.86      0.79       270\n",
            "          32       0.77      0.77      0.77        60\n",
            "          33       0.94      0.93      0.94       210\n",
            "          34       0.95      0.99      0.97       120\n",
            "          35       0.90      0.93      0.91       390\n",
            "          36       0.88      0.96      0.92       120\n",
            "          37       0.95      0.62      0.75        60\n",
            "          38       0.96      0.97      0.97       690\n",
            "          39       0.92      0.94      0.93        90\n",
            "          40       0.74      0.77      0.75        90\n",
            "          41       0.87      0.65      0.74        60\n",
            "          42       0.87      0.87      0.87        90\n",
            "\n",
            "    accuracy                           0.83     12630\n",
            "   macro avg       0.80      0.76      0.78     12630\n",
            "weighted avg       0.83      0.83      0.83     12630\n",
            "\n"
          ]
        }
      ],
      "source": [
        "print(classification_report(y_test, model_1.predict(X_test.reshape(X_test.shape[0], -1))))"
      ]
    },
    {
      "cell_type": "code",
      "execution_count": 23,
      "metadata": {
        "id": "8btrHf-UZt1J"
      },
      "outputs": [],
      "source": [
        "model_1_to_plot = LogisticRegression(max_iter=1, warm_start=True)\n",
        "\n",
        "train_accuracy_1 = []\n",
        "val_accuracy_1 = []\n",
        "\n",
        "for it in range(100):\n",
        "    model_1_to_plot.fit(X_train.reshape(X_train.shape[0], -1), y_train)\n",
        "    train_accuracy_1.append(accuracy_score(y_train, model_1_to_plot.predict(X_train.reshape(X_train.shape[0], -1))))\n",
        "    val_accuracy_1.append(accuracy_score(y_val, model_1_to_plot.predict(X_val.reshape(X_val.shape[0], -1))))"
      ]
    },
    {
      "cell_type": "code",
      "execution_count": 28,
      "metadata": {
        "colab": {
          "base_uri": "https://localhost:8080/",
          "height": 455
        },
        "id": "v_GQOgTQZx1q",
        "outputId": "f6e25442-56b3-4451-c9de-6b6b9cbdaf44"
      },
      "outputs": [
        {
          "output_type": "display_data",
          "data": {
            "text/plain": [
              "<Figure size 640x480 with 1 Axes>"
            ],
            "image/png": "[encoded data removed]"
          },
          "metadata": {}
        }
      ],
      "source": [
        "plt.plot(train_accuracy_1, label=\"Train set\")\n",
        "plt.plot(val_accuracy_1, label=\"Validation set\")\n",
        "plt.ylim([0, 1])\n",
        "plt.xlabel(\"Iterations\")\n",
        "plt.ylabel(\"Accuracy score\")\n",
        "plt.legend()\n",
        "plt.show()"
      ]
    },
    {
      "cell_type": "markdown",
      "metadata": {
        "id": "_55tx0hkZzlS"
      },
      "source": [
        "### 2. Простейшая нейронная сеть\n",
        "\n",
        "Будем использовать сеть с одним полносвязным слоем `torch.nn.Linear`."
      ]
    },
    {
      "cell_type": "code",
      "execution_count": 12,
      "metadata": {
        "id": "ipuP6EY8xGTm"
      },
      "outputs": [],
      "source": [
        "import torch\n",
        "import torch.nn as nn\n",
        "import torch.nn.functional as F\n",
        "import torch.utils.data"
      ]
    },
    {
      "cell_type": "code",
      "execution_count": 30,
      "metadata": {
        "id": "z6uAZY9oZ4ly"
      },
      "outputs": [],
      "source": [
        "model_2 = nn.Sequential(\n",
        "    nn.Flatten(),\n",
        "    nn.Linear(IMG_HEIGHT * IMG_WIDTH * channels, NUM_CATEGORIES),\n",
        "    nn.LogSoftmax(dim=-1)\n",
        ")"
      ]
    },
    {
      "cell_type": "code",
      "execution_count": 31,
      "metadata": {
        "id": "s3tx_o6-Z-S2"
      },
      "outputs": [],
      "source": [
        "opt_2 = torch.optim.Adam(model_2.parameters(), lr=0.001)"
      ]
    },
    {
      "cell_type": "markdown",
      "metadata": {
        "id": "c4kIf5_PaGFR"
      },
      "source": [
        "Код тренировки по эпохам по большей части основан на https://pytorch.org/tutorials/beginner/introyt/trainingyt.html."
      ]
    },
    {
      "cell_type": "code",
      "execution_count": 12,
      "metadata": {
        "id": "OCTTQ-I9Z5iU"
      },
      "outputs": [],
      "source": [
        "train_loader = torch.utils.data.DataLoader(list(zip(X_train.astype(np.float32), y_train)), batch_size=4, shuffle=True)\n",
        "val_loader = torch.utils.data.DataLoader(list(zip(X_val.astype(np.float32), y_val)), batch_size=4, shuffle=False)"
      ]
    },
    {
      "cell_type": "code",
      "execution_count": 17,
      "metadata": {
        "id": "YTQGTN91aMnO"
      },
      "outputs": [],
      "source": [
        "# just for convenience\n",
        "def model_predict(model, X):\n",
        "    return torch.argmax(model(torch.from_numpy(X.astype(np.float32))), dim=-1).detach().numpy()"
      ]
    },
    {
      "cell_type": "code",
      "execution_count": 14,
      "metadata": {
        "id": "hHhk33DwaBUH"
      },
      "outputs": [],
      "source": [
        "def train_one_epoch(model, optimizer, train_accuracy, log_frequency=500):\n",
        "    running_loss = 0.\n",
        "    last_loss = 0.\n",
        "\n",
        "    batch_outputs = np.array([])\n",
        "    batch_labels = np.array([])\n",
        "\n",
        "    for i, data in enumerate(train_loader):\n",
        "        inputs, labels = data\n",
        "\n",
        "        optimizer.zero_grad()\n",
        "\n",
        "        outputs = model(inputs)\n",
        "\n",
        "        batch_outputs = np.append(batch_outputs, torch.argmax(outputs, dim=-1).detach().numpy())\n",
        "        batch_labels = np.append(batch_labels, labels)\n",
        "\n",
        "        loss = F.nll_loss(outputs, labels)\n",
        "        loss.backward()\n",
        "\n",
        "        optimizer.step()\n",
        "\n",
        "        running_loss += loss.item()\n",
        "        if i % log_frequency == log_frequency - 1:\n",
        "            last_loss = running_loss / log_frequency\n",
        "            train_accuracy.append(accuracy_score(batch_labels, batch_outputs))\n",
        "            batch_outputs = np.array([])\n",
        "            batch_labels = np.array([])\n",
        "            print(f'  batch {i + 1} loss: {last_loss}')\n",
        "            running_loss = 0.\n",
        "\n",
        "    return last_loss"
      ]
    },
    {
      "cell_type": "code",
      "execution_count": 35,
      "metadata": {
        "colab": {
          "base_uri": "https://localhost:8080/"
        },
        "id": "ZlhM9iFIaLqP",
        "outputId": "04e9f66a-b7c2-4f6a-8776-d12eeee5b4b6"
      },
      "outputs": [
        {
          "output_type": "stream",
          "name": "stdout",
          "text": [
            "EPOCH 1:\n",
            "  batch 500 loss: 3.3805066639184953\n",
            "  batch 1000 loss: 2.546370512783527\n",
            "  batch 1500 loss: 2.144913806810975\n",
            "  batch 2000 loss: 1.9298179855644704\n",
            "  batch 2500 loss: 1.7711078509949147\n",
            "  batch 3000 loss: 1.6267732774131\n",
            "  batch 3500 loss: 1.53663554020226\n",
            "  batch 4000 loss: 1.3935600673300215\n",
            "  batch 4500 loss: 1.4038380422592163\n",
            "  batch 5000 loss: 1.3249889899417757\n",
            "  batch 5500 loss: 1.2002244283035397\n",
            "  batch 6000 loss: 1.169932091552997\n",
            "  batch 6500 loss: 1.182246213530423\n",
            "LOSS train 1.182246213530423 val 1.187963843345642\n",
            "EPOCH 2:\n",
            "  batch 500 loss: 1.0563735549313715\n",
            "  batch 1000 loss: 0.9862479397833813\n",
            "  batch 1500 loss: 1.0746069608211983\n",
            "  batch 2000 loss: 0.9884709629938588\n",
            "  batch 2500 loss: 0.9407374413684011\n",
            "  batch 3000 loss: 0.9576912515058648\n",
            "  batch 3500 loss: 0.8636823827733279\n",
            "  batch 4000 loss: 0.9473599624184426\n",
            "  batch 4500 loss: 0.8267730078582972\n",
            "  batch 5000 loss: 0.949549242220819\n",
            "  batch 5500 loss: 0.814699641160536\n",
            "  batch 6000 loss: 0.8481833370958921\n",
            "  batch 6500 loss: 0.8137310263837062\n",
            "LOSS train 0.8137310263837062 val 0.7661804556846619\n",
            "EPOCH 3:\n",
            "  batch 500 loss: 0.7468127301564382\n",
            "  batch 1000 loss: 0.728878884608217\n",
            "  batch 1500 loss: 0.8197077254171309\n",
            "  batch 2000 loss: 0.7699981317589991\n",
            "  batch 2500 loss: 0.6598580261316893\n",
            "  batch 3000 loss: 0.751773493611865\n",
            "  batch 3500 loss: 0.7569975742719834\n",
            "  batch 4000 loss: 0.6790009565917062\n",
            "  batch 4500 loss: 0.718373833715741\n",
            "  batch 5000 loss: 0.6756116175269126\n",
            "  batch 5500 loss: 0.6873100564072347\n",
            "  batch 6000 loss: 0.7372231223298586\n",
            "  batch 6500 loss: 0.7828471722685426\n",
            "LOSS train 0.7828471722685426 val 0.5492318868637085\n",
            "EPOCH 4:\n",
            "  batch 500 loss: 0.5729360522289207\n",
            "  batch 1000 loss: 0.6580745060660811\n",
            "  batch 1500 loss: 0.6687029543461431\n",
            "  batch 2000 loss: 0.5542622157319793\n",
            "  batch 2500 loss: 0.699847243424676\n",
            "  batch 3000 loss: 0.5895156394297345\n",
            "  batch 3500 loss: 0.6172769514225893\n",
            "  batch 4000 loss: 0.6201091010969895\n",
            "  batch 4500 loss: 0.6279914966740817\n",
            "  batch 5000 loss: 0.6069178449370447\n",
            "  batch 5500 loss: 0.681410772336967\n",
            "  batch 6000 loss: 0.6253890696021819\n",
            "  batch 6500 loss: 0.5678006220257844\n",
            "LOSS train 0.5678006220257844 val 0.5499953031539917\n",
            "EPOCH 5:\n",
            "  batch 500 loss: 0.5818208335665711\n",
            "  batch 1000 loss: 0.4929278428879202\n",
            "  batch 1500 loss: 0.5223667172638184\n",
            "  batch 2000 loss: 0.5670846623994305\n",
            "  batch 2500 loss: 0.47779515784317983\n",
            "  batch 3000 loss: 0.4800561273830608\n",
            "  batch 3500 loss: 0.5782610546863416\n",
            "  batch 4000 loss: 0.6117878608936799\n",
            "  batch 4500 loss: 0.6023550639757305\n",
            "  batch 5000 loss: 0.5881125655880823\n",
            "  batch 5500 loss: 0.5048775017565149\n",
            "  batch 6000 loss: 0.49609328877478565\n",
            "  batch 6500 loss: 0.5303313043135099\n",
            "LOSS train 0.5303313043135099 val 0.4458956718444824\n",
            "EPOCH 6:\n",
            "  batch 500 loss: 0.5043611889628955\n",
            "  batch 1000 loss: 0.475041714229524\n",
            "  batch 1500 loss: 0.4974168303776005\n",
            "  batch 2000 loss: 0.46597708676357796\n",
            "  batch 2500 loss: 0.5138308842937404\n",
            "  batch 3000 loss: 0.45479813696215754\n",
            "  batch 3500 loss: 0.40550012446428196\n",
            "  batch 4000 loss: 0.533191930047924\n",
            "  batch 4500 loss: 0.4595852606263143\n",
            "  batch 5000 loss: 0.6048226239953082\n",
            "  batch 5500 loss: 0.5250130967285032\n",
            "  batch 6000 loss: 0.4638936642846029\n",
            "  batch 6500 loss: 0.50774471990962\n",
            "LOSS train 0.50774471990962 val 0.6785454154014587\n",
            "EPOCH 7:\n",
            "  batch 500 loss: 0.46604543085057637\n",
            "  batch 1000 loss: 0.4593966451709095\n",
            "  batch 1500 loss: 0.49847706127509656\n",
            "  batch 2000 loss: 0.4953791996200134\n",
            "  batch 2500 loss: 0.4814835034300195\n",
            "  batch 3000 loss: 0.4769084871778698\n",
            "  batch 3500 loss: 0.4161511661337026\n",
            "  batch 4000 loss: 0.418982147495522\n",
            "  batch 4500 loss: 0.44571761852020064\n",
            "  batch 5000 loss: 0.45052874099397716\n",
            "  batch 5500 loss: 0.42287460023112716\n",
            "  batch 6000 loss: 0.35315974333605704\n",
            "  batch 6500 loss: 0.5162604512145754\n",
            "LOSS train 0.5162604512145754 val 0.5917037129402161\n",
            "EPOCH 8:\n",
            "  batch 500 loss: 0.4093603371595283\n",
            "  batch 1000 loss: 0.3645947566117577\n",
            "  batch 1500 loss: 0.45753936681336127\n",
            "  batch 2000 loss: 0.40750840453965476\n",
            "  batch 2500 loss: 0.4228925326665767\n",
            "  batch 3000 loss: 0.4403220053528189\n",
            "  batch 3500 loss: 0.3744481517176737\n",
            "  batch 4000 loss: 0.4932462807104096\n",
            "  batch 4500 loss: 0.5205667314535203\n",
            "  batch 5000 loss: 0.39147148280890154\n",
            "  batch 5500 loss: 0.38359547560247303\n",
            "  batch 6000 loss: 0.40202895741950717\n",
            "  batch 6500 loss: 0.37430775506624775\n",
            "LOSS train 0.37430775506624775 val 0.9080492258071899\n",
            "EPOCH 9:\n",
            "  batch 500 loss: 0.3884590374969996\n",
            "  batch 1000 loss: 0.4269327436695926\n",
            "  batch 1500 loss: 0.4138358706105479\n",
            "  batch 2000 loss: 0.41368074362559354\n",
            "  batch 2500 loss: 0.3950908607093156\n",
            "  batch 3000 loss: 0.46410801911416727\n",
            "  batch 3500 loss: 0.4447646946253499\n",
            "  batch 4000 loss: 0.35627798562653257\n",
            "  batch 4500 loss: 0.41406583240755457\n",
            "  batch 5000 loss: 0.33549763429677604\n",
            "  batch 5500 loss: 0.4220326097534256\n",
            "  batch 6000 loss: 0.4184743930995141\n",
            "  batch 6500 loss: 0.378399939311401\n",
            "LOSS train 0.378399939311401 val 0.49653032422065735\n",
            "EPOCH 10:\n",
            "  batch 500 loss: 0.41819758990336775\n",
            "  batch 1000 loss: 0.3287368225498999\n",
            "  batch 1500 loss: 0.35483915900132634\n",
            "  batch 2000 loss: 0.36322096030553075\n",
            "  batch 2500 loss: 0.4916433339110742\n",
            "  batch 3000 loss: 0.35334579668219684\n",
            "  batch 3500 loss: 0.3474154427739319\n",
            "  batch 4000 loss: 0.3716135435016762\n",
            "  batch 4500 loss: 0.4007077279846634\n",
            "  batch 5000 loss: 0.4230215338133503\n",
            "  batch 5500 loss: 0.34107695800543264\n",
            "  batch 6000 loss: 0.2686560026752692\n",
            "  batch 6500 loss: 0.4261730781359794\n",
            "LOSS train 0.4261730781359794 val 0.40675392746925354\n"
          ]
        }
      ],
      "source": [
        "EPOCHS = 10\n",
        "\n",
        "train_accuracy_2 = []\n",
        "val_accuracy_2 = []\n",
        "\n",
        "for epoch in range(EPOCHS):\n",
        "    print(f'EPOCH {epoch + 1}:')\n",
        "\n",
        "    model_2.train(True)\n",
        "    avg_loss = train_one_epoch(model_2, opt_2, train_accuracy_2)\n",
        "\n",
        "    model_2.train(False)\n",
        "\n",
        "    running_vloss = 0.0\n",
        "    for i, vdata in enumerate(val_loader):\n",
        "        vinputs, vlabels = vdata\n",
        "        voutputs = model_2(vinputs)\n",
        "        vloss = F.nll_loss(voutputs, vlabels)\n",
        "        running_vloss += vloss\n",
        "    avg_vloss = running_vloss / (i + 1)\n",
        "\n",
        "    val_accuracy_2.append(accuracy_score(y_val, model_predict(model_2, X_val)))\n",
        "\n",
        "    print(f'LOSS train {avg_loss} val {avg_vloss}')"
      ]
    },
    {
      "cell_type": "code",
      "execution_count": 39,
      "metadata": {
        "id": "lXbajty5Nx7L"
      },
      "outputs": [],
      "source": [
        "# saving data\n",
        "torch.save(model_2, \"model_2.pt\")\n",
        "np.savetxt(\"train_accuracy_2.txt\", train_accuracy_2)\n",
        "np.savetxt(\"val_accuracy_2.txt\", val_accuracy_2)"
      ]
    },
    {
      "cell_type": "code",
      "execution_count": 13,
      "metadata": {
        "id": "_a3Hh-gCOKh1"
      },
      "outputs": [],
      "source": [
        "# loading data\n",
        "model_2 = torch.load(\"model_2.pt\")\n",
        "train_accuracy_2 = np.loadtxt(\"train_accuracy_2.txt\")\n",
        "val_accuracy_2 = np.loadtxt(\"val_accuracy_2.txt\")"
      ]
    },
    {
      "cell_type": "code",
      "execution_count": 15,
      "metadata": {
        "id": "qXKumBlea40b"
      },
      "outputs": [],
      "source": [
        "def plot_accuracy(train_accuracy, val_accuracy, log_frequency=500):\n",
        "    plt.ylim([0, 1])\n",
        "    plt.plot(np.arange(len(train_accuracy)), train_accuracy, color='orange', zorder=1)\n",
        "    step = X_train.shape[0] // 4 // log_frequency\n",
        "    plt.scatter(np.arange(step - 1, len(val_accuracy) * step + step - 1, step), val_accuracy, zorder=2)\n",
        "    plt.xlabel(\"Iterations\")\n",
        "    plt.ylabel(\"Accuracy score\")\n",
        "    plt.show()"
      ]
    },
    {
      "cell_type": "code",
      "execution_count": 42,
      "metadata": {
        "colab": {
          "base_uri": "https://localhost:8080/",
          "height": 455
        },
        "id": "zPUJ60Wscttm",
        "outputId": "690bedad-f49b-4e96-9fb2-4700fa92d17d"
      },
      "outputs": [
        {
          "output_type": "display_data",
          "data": {
            "text/plain": [
              "<Figure size 640x480 with 1 Axes>"
            ],
            "image/png": "[encoded data removed]"
          },
          "metadata": {}
        }
      ],
      "source": [
        "plot_accuracy(train_accuracy_2, val_accuracy_2)"
      ]
    },
    {
      "cell_type": "code",
      "execution_count": 43,
      "metadata": {
        "colab": {
          "base_uri": "https://localhost:8080/"
        },
        "id": "-Zm2R_aSwtdA",
        "outputId": "74441f6a-7e03-4c31-fec3-8f78db82fc6b"
      },
      "outputs": [
        {
          "output_type": "stream",
          "name": "stdout",
          "text": [
            "train set accuracy: 0.9296800991036945\n",
            "validation set accuracy: 0.9064864405338774\n",
            "test set accuracy: 0.8085510688836105\n"
          ]
        }
      ],
      "source": [
        "print(f\"train set accuracy: {accuracy_score(y_train, model_predict(model_2, X_train))}\")\n",
        "print(f\"validation set accuracy: {accuracy_score(y_val, model_predict(model_2, X_val))}\")\n",
        "print(f\"test set accuracy: {accuracy_score(y_test, model_predict(model_2, X_test))}\")"
      ]
    },
    {
      "cell_type": "markdown",
      "metadata": {
        "id": "nyFL2QfVjJCI"
      },
      "source": [
        "### 3. Свёрточная сеть\n",
        "\n",
        "Построим простую свёрточную сеть с одним свёрточным слоем и двумя полносвязными слоями.\n"
      ]
    },
    {
      "cell_type": "code",
      "execution_count": 45,
      "metadata": {
        "id": "8fyffJZqxGTm"
      },
      "outputs": [],
      "source": [
        "model_3 = nn.Sequential(\n",
        "    nn.Conv2d(channels, 16, 3),\n",
        "    nn.ReLU(),\n",
        "    nn.MaxPool2d(2),\n",
        "    nn.BatchNorm2d(16),\n",
        "    \n",
        "    nn.Flatten(),\n",
        "    nn.Linear(3136, 256),\n",
        "    nn.ReLU(),\n",
        "    nn.Linear(256, NUM_CATEGORIES),\n",
        "    nn.LogSoftmax(dim=-1)\n",
        ")"
      ]
    },
    {
      "cell_type": "code",
      "execution_count": 46,
      "metadata": {
        "id": "8k_Wgrd6xGTo"
      },
      "outputs": [],
      "source": [
        "opt_3 = torch.optim.Adam(model_3.parameters(), lr=0.001)"
      ]
    },
    {
      "cell_type": "code",
      "execution_count": 47,
      "metadata": {
        "colab": {
          "base_uri": "https://localhost:8080/"
        },
        "id": "Yi64gUMwxGTp",
        "outputId": "e7422ae3-6e34-4f1d-e65c-6614475e3699"
      },
      "outputs": [
        {
          "output_type": "stream",
          "name": "stdout",
          "text": [
            "EPOCH 1:\n",
            "  batch 500 loss: 1.7718012127950789\n",
            "  batch 1000 loss: 0.7415810123697556\n",
            "  batch 1500 loss: 0.5810214040594291\n",
            "  batch 2000 loss: 0.513805934425909\n",
            "  batch 2500 loss: 0.47095470310411475\n",
            "  batch 3000 loss: 0.3637403351532303\n",
            "  batch 3500 loss: 0.3336354131663243\n",
            "  batch 4000 loss: 0.3446688775351258\n",
            "  batch 4500 loss: 0.37118949208801244\n",
            "  batch 5000 loss: 0.23789983948548207\n",
            "  batch 5500 loss: 0.2998908154873237\n",
            "  batch 6000 loss: 0.3010321943229999\n",
            "  batch 6500 loss: 0.29690851035964894\n",
            "LOSS train 0.29690851035964894 val 0.33093035221099854\n",
            "EPOCH 2:\n",
            "  batch 500 loss: 0.1383922700828556\n",
            "  batch 1000 loss: 0.15817427220887748\n",
            "  batch 1500 loss: 0.13689115802704158\n",
            "  batch 2000 loss: 0.1721165861995296\n",
            "  batch 2500 loss: 0.18188970677210917\n",
            "  batch 3000 loss: 0.17985936984059425\n",
            "  batch 3500 loss: 0.17849057515743352\n",
            "  batch 4000 loss: 0.20055232706950188\n",
            "  batch 4500 loss: 0.1465390660354132\n",
            "  batch 5000 loss: 0.16567326115590653\n",
            "  batch 5500 loss: 0.15117943608699766\n",
            "  batch 6000 loss: 0.13776868192856984\n",
            "  batch 6500 loss: 0.1892343702186682\n",
            "LOSS train 0.1892343702186682 val 0.21539653837680817\n",
            "EPOCH 3:\n",
            "  batch 500 loss: 0.09185851887898787\n",
            "  batch 1000 loss: 0.07504642568086592\n",
            "  batch 1500 loss: 0.05525491212550196\n",
            "  batch 2000 loss: 0.08242642375459483\n",
            "  batch 2500 loss: 0.1353301763493825\n",
            "  batch 3000 loss: 0.09738169773777754\n",
            "  batch 3500 loss: 0.09256505031111481\n",
            "  batch 4000 loss: 0.12640625945030515\n",
            "  batch 4500 loss: 0.09609446595815915\n",
            "  batch 5000 loss: 0.1146940202232766\n",
            "  batch 5500 loss: 0.07893902838242654\n",
            "  batch 6000 loss: 0.08746017915947296\n",
            "  batch 6500 loss: 0.1244965327053811\n",
            "LOSS train 0.1244965327053811 val 0.23574896156787872\n",
            "EPOCH 4:\n",
            "  batch 500 loss: 0.08519745397268827\n",
            "  batch 1000 loss: 0.05840174112316157\n",
            "  batch 1500 loss: 0.07336257380392922\n",
            "  batch 2000 loss: 0.055569617374906816\n",
            "  batch 2500 loss: 0.08339399301573304\n",
            "  batch 3000 loss: 0.06461515631685821\n",
            "  batch 3500 loss: 0.057092919447218844\n",
            "  batch 4000 loss: 0.08346209497861949\n",
            "  batch 4500 loss: 0.10726621639804768\n",
            "  batch 5000 loss: 0.09125423473467731\n",
            "  batch 5500 loss: 0.0868192352630128\n",
            "  batch 6000 loss: 0.07975239934863897\n",
            "  batch 6500 loss: 0.055988214053761795\n",
            "LOSS train 0.055988214053761795 val 0.12150226533412933\n",
            "EPOCH 5:\n",
            "  batch 500 loss: 0.023668229930157377\n",
            "  batch 1000 loss: 0.10241929648146302\n",
            "  batch 1500 loss: 0.06506710501464454\n",
            "  batch 2000 loss: 0.050888755724462414\n",
            "  batch 2500 loss: 0.04202527851421793\n",
            "  batch 3000 loss: 0.03420141654591568\n",
            "  batch 3500 loss: 0.03644964046022628\n",
            "  batch 4000 loss: 0.0938438233797062\n",
            "  batch 4500 loss: 0.10819799024573257\n",
            "  batch 5000 loss: 0.07411083268830186\n",
            "  batch 5500 loss: 0.06357683670925854\n",
            "  batch 6000 loss: 0.06034729532261911\n",
            "  batch 6500 loss: 0.06058882053279439\n",
            "LOSS train 0.06058882053279439 val 0.16915608942508698\n"
          ]
        }
      ],
      "source": [
        "EPOCHS = 5\n",
        "\n",
        "train_accuracy_3 = []\n",
        "val_accuracy_3 = []\n",
        "\n",
        "for epoch in range(EPOCHS):\n",
        "    print(f'EPOCH {epoch + 1}:')\n",
        "\n",
        "    model_3.train(True)\n",
        "    avg_loss = train_one_epoch(model_3, opt_3, train_accuracy_3)\n",
        "\n",
        "    model_3.train(False)\n",
        "\n",
        "    running_vloss = 0.0\n",
        "    for i, vdata in enumerate(val_loader):\n",
        "        vinputs, vlabels = vdata\n",
        "        voutputs = model_3(vinputs)\n",
        "        vloss = F.nll_loss(voutputs, vlabels)\n",
        "        running_vloss += vloss\n",
        "    avg_vloss = running_vloss / (i + 1)\n",
        "\n",
        "    val_accuracy_3.append(accuracy_score(y_val, model_predict(model_3, X_val)))\n",
        "\n",
        "    print(f'LOSS train {avg_loss} val {avg_vloss}')"
      ]
    },
    {
      "cell_type": "code",
      "execution_count": 48,
      "metadata": {
        "id": "tMMDtCv7Adaw"
      },
      "outputs": [],
      "source": [
        "# saving data\n",
        "torch.save(model_3, \"model_3.pt\")\n",
        "np.savetxt(\"train_accuracy_3.txt\", train_accuracy_3)\n",
        "np.savetxt(\"val_accuracy_3.txt\", val_accuracy_3)"
      ]
    },
    {
      "cell_type": "code",
      "execution_count": 15,
      "metadata": {
        "id": "B75DjcSvAdaz"
      },
      "outputs": [],
      "source": [
        "# loading data\n",
        "model_3 = torch.load(\"model_3.pt\")\n",
        "train_accuracy_3 = np.loadtxt(\"train_accuracy_3.txt\")\n",
        "val_accuracy_3 = np.loadtxt(\"val_accuracy_3.txt\")"
      ]
    },
    {
      "cell_type": "code",
      "execution_count": 49,
      "metadata": {
        "colab": {
          "base_uri": "https://localhost:8080/",
          "height": 455
        },
        "id": "eZsFXGm_oa4C",
        "outputId": "5e8e8658-8880-46a5-bf63-5413fb8eb939"
      },
      "outputs": [
        {
          "output_type": "display_data",
          "data": {
            "text/plain": [
              "<Figure size 640x480 with 1 Axes>"
            ],
            "image/png": "[encoded data removed]"
          },
          "metadata": {}
        }
      ],
      "source": [
        "plot_accuracy(train_accuracy_3, val_accuracy_3)"
      ]
    },
    {
      "cell_type": "code",
      "execution_count": 50,
      "metadata": {
        "colab": {
          "base_uri": "https://localhost:8080/"
        },
        "id": "D1ZGjrbUxe6M",
        "outputId": "5bd36fe6-f176-4d57-eac6-ba52f798e022"
      },
      "outputs": [
        {
          "output_type": "stream",
          "name": "stdout",
          "text": [
            "train set accuracy: 0.9810537054579902\n",
            "validation set accuracy: 0.9616594406188897\n",
            "test set accuracy: 0.879889152810768\n"
          ]
        }
      ],
      "source": [
        "print(f\"train set accuracy: {accuracy_score(y_train, model_predict(model_3, X_train))}\")\n",
        "print(f\"validation set accuracy: {accuracy_score(y_val, model_predict(model_3, X_val))}\")\n",
        "print(f\"test set accuracy: {accuracy_score(y_test, model_predict(model_3, X_test))}\")"
      ]
    },
    {
      "cell_type": "code",
      "execution_count": 51,
      "metadata": {
        "colab": {
          "base_uri": "https://localhost:8080/"
        },
        "id": "stRjT2u5xhk1",
        "outputId": "587cf6f0-40b0-40a9-f9e9-766ef7af5ea9"
      },
      "outputs": [
        {
          "output_type": "stream",
          "name": "stdout",
          "text": [
            "              precision    recall  f1-score   support\n",
            "\n",
            "           0       0.82      0.55      0.66        60\n",
            "           1       0.68      0.98      0.80       720\n",
            "           2       0.87      0.87      0.87       750\n",
            "           3       0.77      0.71      0.74       450\n",
            "           4       0.94      0.84      0.89       660\n",
            "           5       0.75      0.76      0.75       630\n",
            "           6       0.95      0.84      0.89       150\n",
            "           7       0.94      0.81      0.87       450\n",
            "           8       0.85      0.89      0.87       450\n",
            "           9       0.97      0.94      0.95       480\n",
            "          10       0.96      0.96      0.96       660\n",
            "          11       0.84      0.90      0.87       420\n",
            "          12       0.98      0.96      0.97       690\n",
            "          13       0.99      0.95      0.97       720\n",
            "          14       1.00      0.94      0.97       270\n",
            "          15       0.96      0.98      0.97       210\n",
            "          16       0.99      0.97      0.98       150\n",
            "          17       0.99      0.84      0.91       360\n",
            "          18       0.97      0.77      0.86       390\n",
            "          19       0.63      0.93      0.75        60\n",
            "          20       0.75      0.91      0.82        90\n",
            "          21       0.94      0.76      0.84        90\n",
            "          22       0.91      0.97      0.94       120\n",
            "          23       0.55      0.77      0.64       150\n",
            "          24       0.65      0.52      0.58        90\n",
            "          25       0.97      0.86      0.91       480\n",
            "          26       0.80      0.86      0.83       180\n",
            "          27       0.74      0.52      0.61        60\n",
            "          28       0.98      0.79      0.88       150\n",
            "          29       0.89      0.89      0.89        90\n",
            "          30       0.81      0.59      0.68       150\n",
            "          31       0.86      0.96      0.91       270\n",
            "          32       0.55      1.00      0.71        60\n",
            "          33       1.00      0.89      0.94       210\n",
            "          34       0.97      0.91      0.94       120\n",
            "          35       0.84      0.98      0.91       390\n",
            "          36       0.99      0.86      0.92       120\n",
            "          37       0.96      0.88      0.92        60\n",
            "          38       0.98      0.92      0.95       690\n",
            "          39       0.86      0.91      0.89        90\n",
            "          40       0.67      0.89      0.76        90\n",
            "          41       0.96      0.83      0.89        60\n",
            "          42       0.93      0.96      0.95        90\n",
            "\n",
            "    accuracy                           0.88     12630\n",
            "   macro avg       0.87      0.86      0.86     12630\n",
            "weighted avg       0.89      0.88      0.88     12630\n",
            "\n"
          ]
        }
      ],
      "source": [
        "print(classification_report(y_test, model_predict(model_3, X_test)))"
      ]
    },
    {
      "cell_type": "markdown",
      "metadata": {
        "id": "c_LfR--V2ExT"
      },
      "source": [
        "### 4. Свёрточная сеть strikes again\n",
        "\n",
        "Построим свёрточную сеть с двумя свёрточными слоями и двумя полносвязными слоями.\n"
      ]
    },
    {
      "cell_type": "code",
      "execution_count": 17,
      "metadata": {
        "id": "Xi2_t1x9xGTy"
      },
      "outputs": [],
      "source": [
        "model_4 = nn.Sequential(\n",
        "    nn.Conv2d(channels, 16, 3),\n",
        "    nn.ReLU(),\n",
        "    nn.Conv2d(16, 32, 3),\n",
        "    nn.ReLU(),\n",
        "    nn.MaxPool2d(2),\n",
        "    nn.BatchNorm2d(32),\n",
        "    \n",
        "    nn.Flatten(),\n",
        "    nn.Linear(5408, 256),\n",
        "    nn.ReLU(),\n",
        "    nn.Linear(256, NUM_CATEGORIES),\n",
        "    nn.LogSoftmax(dim=-1)\n",
        ")"
      ]
    },
    {
      "cell_type": "code",
      "execution_count": 18,
      "metadata": {
        "id": "Q61zPP2D2SPs"
      },
      "outputs": [],
      "source": [
        "opt_4 = torch.optim.Adam(model_4.parameters(), lr=0.001)"
      ]
    },
    {
      "cell_type": "code",
      "execution_count": 19,
      "metadata": {
        "colab": {
          "base_uri": "https://localhost:8080/"
        },
        "id": "WMtvhqEf2Ts1",
        "outputId": "c277da5a-d982-44c8-f9c3-ee13a75693fd"
      },
      "outputs": [
        {
          "output_type": "stream",
          "name": "stdout",
          "text": [
            "EPOCH 1:\n",
            "  batch 500 loss: 2.0209501111647112\n",
            "  batch 1000 loss: 0.7506200704327785\n",
            "  batch 1500 loss: 0.5030359388148645\n",
            "  batch 2000 loss: 0.37494198760367\n",
            "  batch 2500 loss: 0.3134895681551561\n",
            "  batch 3000 loss: 0.24586462798615322\n",
            "  batch 3500 loss: 0.24648858285104824\n",
            "  batch 4000 loss: 0.1674171926434626\n",
            "  batch 4500 loss: 0.16356023436218925\n",
            "  batch 5000 loss: 0.2217566369592091\n",
            "  batch 5500 loss: 0.1723836323662403\n",
            "  batch 6000 loss: 0.22184024030715802\n",
            "  batch 6500 loss: 0.13905568753739886\n",
            "LOSS train 0.13905568753739886 val 0.16736742854118347\n",
            "EPOCH 2:\n",
            "  batch 500 loss: 0.06905081266784718\n",
            "  batch 1000 loss: 0.14171672060347487\n",
            "  batch 1500 loss: 0.0995036649668919\n",
            "  batch 2000 loss: 0.1086607905670775\n",
            "  batch 2500 loss: 0.10717897694489095\n",
            "  batch 3000 loss: 0.1097908900918672\n",
            "  batch 3500 loss: 0.14202034567190616\n",
            "  batch 4000 loss: 0.10441702041229484\n",
            "  batch 4500 loss: 0.13224915303482113\n",
            "  batch 5000 loss: 0.1107036685624049\n",
            "  batch 5500 loss: 0.08470942919718415\n",
            "  batch 6000 loss: 0.08405808494840909\n",
            "  batch 6500 loss: 0.1277732332492342\n",
            "LOSS train 0.1277732332492342 val 0.17088615894317627\n",
            "EPOCH 3:\n",
            "  batch 500 loss: 0.054453883065218533\n",
            "  batch 1000 loss: 0.045401880848403194\n",
            "  batch 1500 loss: 0.06831894823554842\n",
            "  batch 2000 loss: 0.053746204600343\n",
            "  batch 2500 loss: 0.09670491326563994\n",
            "  batch 3000 loss: 0.11544225055872029\n",
            "  batch 3500 loss: 0.02316494467367433\n",
            "  batch 4000 loss: 0.11427077027606228\n",
            "  batch 4500 loss: 0.05902597988481684\n",
            "  batch 5000 loss: 0.059579989776584685\n",
            "  batch 5500 loss: 0.0829743658594716\n",
            "  batch 6000 loss: 0.04708794031638044\n",
            "  batch 6500 loss: 0.11264143339690802\n",
            "LOSS train 0.11264143339690802 val 0.22985611855983734\n",
            "EPOCH 4:\n",
            "  batch 500 loss: 0.05887081117906868\n",
            "  batch 1000 loss: 0.05414249816641455\n",
            "  batch 1500 loss: 0.03749045375482095\n",
            "  batch 2000 loss: 0.09885167403366282\n",
            "  batch 2500 loss: 0.07415123881114748\n",
            "  batch 3000 loss: 0.0782670283238902\n",
            "  batch 3500 loss: 0.04518251812604037\n",
            "  batch 4000 loss: 0.06164945168799556\n",
            "  batch 4500 loss: 0.0909388646368916\n",
            "  batch 5000 loss: 0.04297175420477862\n",
            "  batch 5500 loss: 0.041353426897043646\n",
            "  batch 6000 loss: 0.05456088158912814\n",
            "  batch 6500 loss: 0.07017352337938709\n",
            "LOSS train 0.07017352337938709 val 0.09337407350540161\n",
            "EPOCH 5:\n",
            "  batch 500 loss: 0.019669568909298295\n",
            "  batch 1000 loss: 0.02053578757196693\n",
            "  batch 1500 loss: 0.021533110689579554\n",
            "  batch 2000 loss: 0.06694968215015797\n",
            "  batch 2500 loss: 0.048071943909030905\n",
            "  batch 3000 loss: 0.09910379324968857\n",
            "  batch 3500 loss: 0.06661215338501375\n",
            "  batch 4000 loss: 0.029231180122092335\n",
            "  batch 4500 loss: 0.0760302812813213\n",
            "  batch 5000 loss: 0.04371153704224028\n",
            "  batch 5500 loss: 0.06936353731155108\n",
            "  batch 6000 loss: 0.05486963518340039\n",
            "  batch 6500 loss: 0.045123786826308174\n",
            "LOSS train 0.045123786826308174 val 0.07454770803451538\n"
          ]
        }
      ],
      "source": [
        "EPOCHS = 5\n",
        "\n",
        "train_accuracy_4 = []\n",
        "val_accuracy_4 = []\n",
        "\n",
        "for epoch in range(EPOCHS):\n",
        "    print(f'EPOCH {epoch + 1}:')\n",
        "\n",
        "    model_4.train(True)\n",
        "    avg_loss = train_one_epoch(model_4, opt_4, train_accuracy_4)\n",
        "\n",
        "    model_4.train(False)\n",
        "\n",
        "    running_vloss = 0.0\n",
        "    for i, vdata in enumerate(val_loader):\n",
        "        vinputs, vlabels = vdata\n",
        "        voutputs = model_4(vinputs)\n",
        "        vloss = F.nll_loss(voutputs, vlabels)\n",
        "        running_vloss += vloss\n",
        "    avg_vloss = running_vloss / (i + 1)\n",
        "\n",
        "    val_accuracy_4.append(accuracy_score(y_val, model_predict(model_4, X_val)))\n",
        "\n",
        "    print(f'LOSS train {avg_loss} val {avg_vloss}')"
      ]
    },
    {
      "cell_type": "code",
      "execution_count": 20,
      "metadata": {
        "colab": {
          "base_uri": "https://localhost:8080/",
          "height": 455
        },
        "id": "2XcZ_u0i2ZYp",
        "outputId": "dc9797f9-62e0-4947-e25f-cdb3b4070509"
      },
      "outputs": [
        {
          "output_type": "display_data",
          "data": {
            "text/plain": [
              "<Figure size 640x480 with 1 Axes>"
            ],
            "image/png": "[encoded data removed]"
          },
          "metadata": {}
        }
      ],
      "source": [
        "plot_accuracy(train_accuracy_4, val_accuracy_4)"
      ]
    },
    {
      "cell_type": "code",
      "execution_count": 21,
      "metadata": {
        "id": "aXsaSrIbDaOM"
      },
      "outputs": [],
      "source": [
        "# saving data\n",
        "torch.save(model_4, \"model_4.pt\")\n",
        "np.savetxt(\"train_accuracy_4.txt\", train_accuracy_4)\n",
        "np.savetxt(\"val_accuracy_4.txt\", val_accuracy_4)"
      ]
    },
    {
      "cell_type": "code",
      "execution_count": 14,
      "metadata": {
        "id": "vfzZ-7G3DaOO"
      },
      "outputs": [],
      "source": [
        "# loading data\n",
        "model_4 = torch.load(\"model_4.pt\")\n",
        "train_accuracy_4 = np.loadtxt(\"train_accuracy_4.txt\")\n",
        "val_accuracy_4 = np.loadtxt(\"val_accuracy_4.txt\")"
      ]
    },
    {
      "cell_type": "code",
      "execution_count": 18,
      "metadata": {
        "colab": {
          "base_uri": "https://localhost:8080/"
        },
        "id": "6Sow3SL12bRH",
        "outputId": "16399219-426d-4319-c734-9319daefd115"
      },
      "outputs": [
        {
          "output_type": "stream",
          "name": "stdout",
          "text": [
            "train set accuracy: 0.9956642133644247\n",
            "validation set accuracy: 0.9840176825639718\n",
            "test set accuracy: 0.9422802850356294\n"
          ]
        }
      ],
      "source": [
        "print(f\"train set accuracy: {accuracy_score(y_train, model_predict(model_4, X_train))}\")\n",
        "print(f\"validation set accuracy: {accuracy_score(y_val, model_predict(model_4, X_val))}\")\n",
        "print(f\"test set accuracy: {accuracy_score(y_test, model_predict(model_4, X_test))}\")"
      ]
    },
    {
      "cell_type": "code",
      "execution_count": 19,
      "metadata": {
        "colab": {
          "base_uri": "https://localhost:8080/"
        },
        "id": "GQR3aPbJ8hwI",
        "outputId": "0a6bf157-ee47-4bc3-fe98-a80ae6a18387"
      },
      "outputs": [
        {
          "output_type": "stream",
          "name": "stdout",
          "text": [
            "              precision    recall  f1-score   support\n",
            "\n",
            "           0       0.89      0.98      0.94        60\n",
            "           1       0.94      0.95      0.94       720\n",
            "           2       0.93      0.98      0.96       750\n",
            "           3       0.97      0.90      0.93       450\n",
            "           4       0.96      0.97      0.97       660\n",
            "           5       0.82      0.95      0.88       630\n",
            "           6       0.97      0.73      0.83       150\n",
            "           7       0.97      0.84      0.90       450\n",
            "           8       0.89      0.92      0.90       450\n",
            "           9       0.96      1.00      0.98       480\n",
            "          10       0.98      0.97      0.97       660\n",
            "          11       0.96      0.90      0.93       420\n",
            "          12       0.99      0.99      0.99       690\n",
            "          13       1.00      0.99      0.99       720\n",
            "          14       0.99      0.99      0.99       270\n",
            "          15       0.97      1.00      0.98       210\n",
            "          16       0.99      0.97      0.98       150\n",
            "          17       0.99      0.99      0.99       360\n",
            "          18       0.93      0.90      0.92       390\n",
            "          19       0.69      1.00      0.82        60\n",
            "          20       0.63      0.98      0.77        90\n",
            "          21       0.73      0.92      0.82        90\n",
            "          22       0.97      0.96      0.96       120\n",
            "          23       0.86      0.80      0.83       150\n",
            "          24       0.93      0.98      0.95        90\n",
            "          25       0.96      0.91      0.93       480\n",
            "          26       0.93      0.85      0.89       180\n",
            "          27       0.64      0.48      0.55        60\n",
            "          28       0.95      0.93      0.94       150\n",
            "          29       0.88      0.97      0.92        90\n",
            "          30       0.87      0.75      0.81       150\n",
            "          31       0.94      0.93      0.94       270\n",
            "          32       0.97      1.00      0.98        60\n",
            "          33       1.00      0.97      0.98       210\n",
            "          34       0.97      0.94      0.95       120\n",
            "          35       0.99      0.99      0.99       390\n",
            "          36       0.98      0.93      0.95       120\n",
            "          37       0.86      0.95      0.90        60\n",
            "          38       0.97      0.98      0.98       690\n",
            "          39       0.97      0.98      0.97        90\n",
            "          40       0.97      0.63      0.77        90\n",
            "          41       0.91      0.83      0.87        60\n",
            "          42       0.93      0.93      0.93        90\n",
            "\n",
            "    accuracy                           0.94     12630\n",
            "   macro avg       0.92      0.92      0.92     12630\n",
            "weighted avg       0.95      0.94      0.94     12630\n",
            "\n"
          ]
        }
      ],
      "source": [
        "print(classification_report(y_test, model_predict(model_4, X_test)))"
      ]
    },
    {
      "cell_type": "code",
      "execution_count": 22,
      "metadata": {
        "colab": {
          "base_uri": "https://localhost:8080/",
          "height": 455
        },
        "id": "gXCCLbR4LCEP",
        "outputId": "5606aa25-1f82-4b54-f97e-f22c28b5c986"
      },
      "outputs": [
        {
          "output_type": "display_data",
          "data": {
            "text/plain": [
              "<Figure size 640x480 with 1 Axes>"
            ],
            "image/png": "[encoded data removed]"
          },
          "metadata": {}
        }
      ],
      "source": [
        "plt.ylim([0, 1])\n",
        "ITERATIONS = 5 * 13\n",
        "plt.plot(np.arange(ITERATIONS), train_accuracy_2[:ITERATIONS], label=\"Полносвязная сеть\")\n",
        "plt.plot(np.arange(ITERATIONS), train_accuracy_3[:ITERATIONS], label=\"Сеть с одним свёрточным слоем\")\n",
        "plt.plot(np.arange(ITERATIONS), train_accuracy_4[:ITERATIONS], label=\"Сеть с двумя свёрточными слоями\")\n",
        "plt.xlabel(\"Iterations\")\n",
        "plt.ylabel(\"Accuracy score\")\n",
        "plt.legend()\n",
        "plt.show()"
      ]
    }
  ],
  "metadata": {
    "colab": {
      "provenance": [],
      "collapsed_sections": [
        "4FS2LecaMunt",
        "BD3BaFUnYkKK",
        "AsmjwTm1ZVWn",
        "_55tx0hkZzlS",
        "nyFL2QfVjJCI",
        "c_LfR--V2ExT"
      ]
    },
    "kernelspec": {
      "display_name": "Python 3",
      "language": "python",
      "name": "python3"
    },
    "language_info": {
      "codemirror_mode": {
        "name": "ipython",
        "version": 2
      },
      "file_extension": ".py",
      "mimetype": "text/x-python",
      "name": "python",
      "nbconvert_exporter": "python",
      "pygments_lexer": "ipython2",
      "version": "2.7.6"
    }
  },
  "nbformat": 4,
  "nbformat_minor": 0
}